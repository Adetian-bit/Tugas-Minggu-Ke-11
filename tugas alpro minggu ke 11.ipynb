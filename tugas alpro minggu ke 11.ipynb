{
 "cells": [
  {
   "cell_type": "markdown",
   "id": "70e1214e-e5d4-4554-933e-f18549c2ab1e",
   "metadata": {},
   "source": [
    "## Nama : Muhammad Ade sulistiansyah\n",
    "## Nim  : 103102400045\n"
   ]
  },
  {
   "cell_type": "markdown",
   "id": "38cf3651-8a4e-4202-a9b7-47f1dd31bd0a",
   "metadata": {},
   "source": [
    "## Minggu 1 - Tipe Data dan Operator Python"
   ]
  },
  {
   "cell_type": "code",
   "execution_count": 4,
   "id": "3ed05427-d25a-42df-8c7c-5b55bd77c558",
   "metadata": {},
   "outputs": [
    {
     "name": "stdout",
     "output_type": "stream",
     "text": [
      "Hello, World!\n"
     ]
    }
   ],
   "source": [
    "print(\"Hello, World!\")"
   ]
  },
  {
   "cell_type": "code",
   "execution_count": 6,
   "id": "15392b97-c3f8-4e17-bf4e-7c938efc4ed0",
   "metadata": {},
   "outputs": [
    {
     "name": "stdout",
     "output_type": "stream",
     "text": [
      "Hello, World!\n"
     ]
    }
   ],
   "source": [
    "print(f\"Hello, World!\")"
   ]
  },
  {
   "cell_type": "code",
   "execution_count": 8,
   "id": "d9a6896f-e388-4934-b3ab-94eab9f6664a",
   "metadata": {},
   "outputs": [
    {
     "name": "stdout",
     "output_type": "stream",
     "text": [
      "Komentar tidak akan mengeluarkan output apapun\n"
     ]
    }
   ],
   "source": [
    "# ini namanya komentar gaes!!!\n",
    "\n",
    "\"\"\"\n",
    "ini juga komentar gaes, tapi bisa banyak baris\n",
    "ini juga komentar gaes, tapi bisa banyak baris\n",
    "ini juga komentar gaes, tapi bisa banyak baris\n",
    "ini juga komentar gaes, tapi bisa banyak baris\n",
    "\"\"\"\n",
    "\n",
    "print(\"Komentar tidak akan mengeluarkan output apapun\")"
   ]
  },
  {
   "cell_type": "code",
   "execution_count": 18,
   "id": "9a6c146e-59b7-482d-ab21-30ff47929e48",
   "metadata": {},
   "outputs": [
    {
     "name": "stdout",
     "output_type": "stream",
     "text": [
      "Nama: Ade tian dan Umur: 50\n",
      "Nama: Ade tian dan Umur: 50\n",
      "\n",
      "\n",
      "ade\n",
      "dan\n",
      "tian\n"
     ]
    }
   ],
   "source": [
    "# Variabel\n",
    "nama = \"Ade tian\"\n",
    "umur = 50\n",
    "status_pernikahan = \"Belum Menikah\"\n",
    "statuspernikahan = \"Menikah\"\n",
    "\n",
    "# Tipe data\n",
    "bilangan_bulat = 10\n",
    "bilangan_desimal = 3.14\n",
    "teks = \"Halo, dunia!\"\n",
    "teks_multibaris = '''ade\n",
    "dan\n",
    "tian'''\n",
    "boolean = True\n",
    "\n",
    "# Menampilkan nilai variabel\n",
    "print('Nama:', nama, 'dan Umur:', umur)\n",
    "print(f\"Nama: {nama} dan Umur: {umur}\")\n",
    "print('\\n')\n",
    "print(teks_multibaris)"
   ]
  },
  {
   "cell_type": "code",
   "execution_count": 20,
   "id": "89661e8f-985c-4739-83d2-31c3aca8b779",
   "metadata": {},
   "outputs": [
    {
     "name": "stdin",
     "output_type": "stream",
     "text": [
      "Masukkan nama Anda:  ade\n",
      "Berapa harganya?:  20000\n"
     ]
    },
    {
     "name": "stdout",
     "output_type": "stream",
     "text": [
      "\n",
      "\n",
      "Halo, aku ade dan aku sudah makan ayam goreng yang harganya Rp 20000\n"
     ]
    }
   ],
   "source": [
    "nama = input(\"Masukkan nama Anda: \")\n",
    "makan = 'sudah'\n",
    "harga = int(input(\"Berapa harganya?: \"))\n",
    "\n",
    "print('\\n')\n",
    "print(\"Halo, aku\", nama, 'dan aku', makan, 'makan ayam goreng yang harganya Rp', harga)"
   ]
  },
  {
   "cell_type": "markdown",
   "id": "21158ad8-0a75-4dfd-99ab-e88c6625c370",
   "metadata": {},
   "source": [
    "## Minggu 2 Ekspresi persamaan matematika"
   ]
  },
  {
   "cell_type": "code",
   "execution_count": 23,
   "id": "faee229e-023f-41c0-917f-5a4c5b663f84",
   "metadata": {},
   "outputs": [
    {
     "name": "stdin",
     "output_type": "stream",
     "text": [
      "Masukkan bilangan pertama:  50\n",
      "Masukkan bilangan kedua:  79\n"
     ]
    },
    {
     "name": "stdout",
     "output_type": "stream",
     "text": [
      "Hasil penjumlahan: 129.0\n"
     ]
    }
   ],
   "source": [
    "# Input bilangan dari pengguna\n",
    "bilangan1 = float(input(\"Masukkan bilangan pertama: \"))\n",
    "bilangan2 = float(input(\"Masukkan bilangan kedua: \"))\n",
    "\n",
    "# Hitung penjumlahan\n",
    "hasil = bilangan1 + bilangan2\n",
    "\n",
    "# Cetak hasil\n",
    "print(\"Hasil penjumlahan:\", hasil)"
   ]
  },
  {
   "cell_type": "code",
   "execution_count": 25,
   "id": "b4e28e05-8bc3-4468-93b5-8be2f1ecdd63",
   "metadata": {},
   "outputs": [
    {
     "name": "stdin",
     "output_type": "stream",
     "text": [
      "Masukkan basis:  20\n",
      "Masukkan eksponen:  3\n"
     ]
    },
    {
     "name": "stdout",
     "output_type": "stream",
     "text": [
      "Hasil pangkat: 8000.0\n"
     ]
    }
   ],
   "source": [
    "# Input basis dan eksponen dari pengguna\n",
    "basis = float(input(\"Masukkan basis: \"))\n",
    "eksponen = float(input(\"Masukkan eksponen: \"))\n",
    "\n",
    "# Hitung hasil pangkat\n",
    "hasil = basis ** eksponen\n",
    "\n",
    "# Cetak hasil\n",
    "print(\"Hasil pangkat:\", hasil)"
   ]
  },
  {
   "cell_type": "code",
   "execution_count": 29,
   "id": "4c943316-5492-4e24-84bd-355091c698ac",
   "metadata": {},
   "outputs": [
    {
     "name": "stdin",
     "output_type": "stream",
     "text": [
      "Masukkan bilangan pertama (integer):  20\n",
      "Masukkan bilangan kedua (integer):  19\n"
     ]
    },
    {
     "name": "stdout",
     "output_type": "stream",
     "text": [
      "Sisa bagi: 1\n"
     ]
    }
   ],
   "source": [
    "# Input bilangan dari pengguna\n",
    "bilangan1 = int(input(\"Masukkan bilangan pertama (integer): \"))\n",
    "bilangan2 = int(input(\"Masukkan bilangan kedua (integer): \"))\n",
    "\n",
    "# Hitung sisa bagi\n",
    "hasil = bilangan1 % bilangan2\n",
    "\n",
    "# Cetak hasil\n",
    "print(\"Sisa bagi:\", hasil)"
   ]
  },
  {
   "cell_type": "markdown",
   "id": "fe6705fa-87ba-4a6e-8396-22f7d7e0959f",
   "metadata": {},
   "source": [
    "## Minggu 3 Math Library "
   ]
  },
  {
   "cell_type": "code",
   "execution_count": 1,
   "id": "22166a64-373f-4500-b7d3-fd6c3b2d23a8",
   "metadata": {},
   "outputs": [
    {
     "name": "stdin",
     "output_type": "stream",
     "text": [
      "Masukkan bilangan:  169\n"
     ]
    },
    {
     "name": "stdout",
     "output_type": "stream",
     "text": [
      "Akar kuadrat: 13.0\n"
     ]
    }
   ],
   "source": [
    "import math\n",
    "\n",
    "# Input bilangan dari pengguna\n",
    "bilangan = float(input(\"Masukkan bilangan: \"))\n",
    "\n",
    "# Hitung akar kuadrat\n",
    "hasil = math.sqrt(bilangan)\n",
    "\n",
    "# Cetak hasil\n",
    "print(\"Akar kuadrat:\", hasil)"
   ]
  },
  {
   "cell_type": "markdown",
   "id": "d2c12606-e938-446c-8783-6f849d82b62d",
   "metadata": {},
   "source": [
    "## Minggu 4 Soal"
   ]
  },
  {
   "cell_type": "code",
   "execution_count": 25,
   "id": "882eedef-f071-466d-9ab3-094c5211667f",
   "metadata": {},
   "outputs": [
    {
     "name": "stdin",
     "output_type": "stream",
     "text": [
      "Berapa gaji Budi per jamny?:  2500000\n",
      "Berapa jam kerja Budi dalam satu minggu?:  2\n"
     ]
    },
    {
     "name": "stdout",
     "output_type": "stream",
     "text": [
      "Gaji budi selama bekerja 5 minggu adalah 25000000\n",
      "Gaji budi setelah dipotong pajak 14% 21500000.0\n",
      "Jumlah uang yang dikeluarkan budi untuk membeli Pakaian dan Aksesoris adalah: 2150000.0\n",
      "Jumlah uang yang dikeluarkan budi untuk membeli alat tulis adalah: 215000.0\n",
      "jumlah uang yang dikeluarkan budi untuk sedekah adalah: 5375000.0\n",
      "jumlah uang yang diterima anak yatim adalah: 1612500.0\n",
      "jumlah uang yang diterima anak dhuafa adalah: 3762500.0\n"
     ]
    }
   ],
   "source": [
    "gaji_h = int(input(\"Berapa gaji Budi per jamny?: \"))\n",
    "jam_kerja = int(input(\"Berapa jam kerja Budi dalam satu minggu?: \"))\n",
    "lama_kerja = 5\n",
    "gaji_budi = gaji_h*jam_kerja*lama_kerja\n",
    "pajak = gaji_budi*0.14\n",
    "gaji_bersih = gaji_budi - pajak\n",
    "print(\"Gaji budi selama bekerja 5 minggu adalah\", gaji_budi)\n",
    "print(\"Gaji budi setelah dipotong pajak 14%\", gaji_bersih)\n",
    "beli_baju= gaji_bersih * 0.1\n",
    "beli_alattulis = gaji_bersih * 0.01\n",
    "sedekah = gaji_bersih * 0.25\n",
    "sedekah_anak_yatim = sedekah*0.30\n",
    "sedekah_anak_dhuafa = sedekah - sedekah_anak_yatim\n",
    "print(\"Jumlah uang yang dikeluarkan budi untuk membeli Pakaian dan Aksesoris adalah:\", beli_baju)\n",
    "print(\"Jumlah uang yang dikeluarkan budi untuk membeli alat tulis adalah:\", beli_alattulis)\n",
    "print(\"jumlah uang yang dikeluarkan budi untuk sedekah adalah:\", sedekah)\n",
    "print(\"jumlah uang yang diterima anak yatim adalah:\", sedekah_anak_yatim)\n",
    "print(\"jumlah uang yang diterima anak dhuafa adalah:\", sedekah_anak_dhuafa)"
   ]
  },
  {
   "cell_type": "code",
   "execution_count": 23,
   "id": "1eb0d3b0-430b-4eb3-8201-9ae427a9b608",
   "metadata": {},
   "outputs": [
    {
     "name": "stdout",
     "output_type": "stream",
     "text": [
      "1\n",
      "Namaku 1\n",
      "2\n",
      "Namaku 2\n",
      "3\n",
      "Namaku 3\n",
      "4\n",
      "Namaku 4\n"
     ]
    }
   ],
   "source": [
    "for i in range(1,5):\n",
    "    print(i)\n",
    "    print('Namaku',i)"
   ]
  },
  {
   "cell_type": "markdown",
   "id": "7d144017-1a9b-485f-a936-2886f3df3a84",
   "metadata": {},
   "source": [
    "## Minggu 5 Range and Looping"
   ]
  },
  {
   "cell_type": "code",
   "execution_count": 6,
   "id": "754b6139-74fa-4ded-a003-5a287e02f680",
   "metadata": {},
   "outputs": [
    {
     "name": "stdout",
     "output_type": "stream",
     "text": [
      "Nama Saya Ade\n",
      "Ini cuman nyoba Ade\n",
      "Nama Saya Tian\n",
      "Ini cuman nyoba Tian\n",
      "Nama Saya Sulis\n",
      "Ini cuman nyoba Sulis\n",
      "Nama Saya Syah\n",
      "Ini cuman nyoba Syah\n"
     ]
    }
   ],
   "source": [
    "names = ['Ade',\"Tian\",\"Sulis\",\"Arifin\"]\n",
    "for name in names:\n",
    "    print(\"Nama Saya\",name)\n",
    "    print(\"Ini cuman nyoba\",name)"
   ]
  },
  {
   "cell_type": "code",
   "execution_count": 8,
   "id": "181f5982-0a8f-4aa3-8f9e-c1ac5cf0114a",
   "metadata": {},
   "outputs": [
    {
     "name": "stdout",
     "output_type": "stream",
     "text": [
      "Pengulangan ke- 1\n",
      "Pengulangan ke- 2\n",
      "Pengulangan ke- 3\n",
      "Pengulangan ke- 4\n",
      "Pengulangan ke- 5\n"
     ]
    }
   ],
   "source": [
    "# Contoh pengulangan sederhana dengan while\n",
    "counter = 0\n",
    "\n",
    "while counter < 5:\n",
    "    print(\"Pengulangan ke-\", counter + 1)\n",
    "    counter += 1  # Increment nilai counter\n"
   ]
  },
  {
   "cell_type": "code",
   "execution_count": 18,
   "id": "0df07fc9-71f7-49a1-b759-e879101f8317",
   "metadata": {},
   "outputs": [
    {
     "name": "stdin",
     "output_type": "stream",
     "text": [
      "masukkan jumlah data:  5\n",
      "masukkan data:  1\n",
      "masukkan data:  3\n",
      "masukkan data:  4\n",
      "masukkan data:  5\n",
      "masukkan data:  6\n"
     ]
    },
    {
     "name": "stdout",
     "output_type": "stream",
     "text": [
      "data kamu adalah  [1.0, 3.0, 4.0, 5.0, 6.0]\n"
     ]
    }
   ],
   "source": [
    "# for di dalam list\n",
    "\n",
    "n= int(input(\"masukkan jumlah data: \"))\n",
    "list_data=[float(input(\"masukkan data: \")) for _ in range(n)]\n",
    "print(\"data kamu adalah \",list_data)"
   ]
  },
  {
   "cell_type": "code",
   "execution_count": 20,
   "id": "326391db-8213-4761-b6d3-f2966614f908",
   "metadata": {},
   "outputs": [
    {
     "name": "stdin",
     "output_type": "stream",
     "text": [
      "jumlah baris:  7\n"
     ]
    },
    {
     "name": "stdout",
     "output_type": "stream",
     "text": [
      "1  \n",
      "1 2  \n",
      "1 2 3  \n",
      "1 2 3 4  \n",
      "1 2 3 4 5  \n",
      "1 2 3 4 5 6  \n",
      "1 2 3 4 5 6 7  \n"
     ]
    }
   ],
   "source": [
    "n = int(input(\"jumlah baris: \"))\n",
    "for i in range(n):\n",
    "    for j in range(i+1):\n",
    "        print(j+1,end=\" \")\n",
    "    print(' ')"
   ]
  },
  {
   "cell_type": "code",
   "execution_count": 32,
   "id": "580dd280-87ae-4eb1-8e84-133f725db133",
   "metadata": {},
   "outputs": [
    {
     "name": "stdin",
     "output_type": "stream",
     "text": [
      "jumlah data : 7\n",
      "data:  1\n",
      "data:  2\n",
      "data:  3\n",
      "data:  4\n",
      "data:  5\n",
      "data:  6\n",
      "data:  7\n"
     ]
    },
    {
     "name": "stdout",
     "output_type": "stream",
     "text": [
      "Nilai terbesar: 7\n",
      "Nilai terkecil: 1\n",
      "Variansi: 4.666666666666667\n"
     ]
    }
   ],
   "source": [
    "n = int(input(\"jumlah data :\"))\n",
    "data = [int(input(\"data: \")) for _ in range(n)]\n",
    "\n",
    "jumlah = 0\n",
    "for j in data:\n",
    "    jumlah += j\n",
    "    \n",
    "rata_rata = jumlah / n \n",
    "variansi = sum((x - rata_rata)**2 for x in data) / (n - 1)\n",
    "print('Nilai terbesar:', max(data))\n",
    "print('Nilai terkecil:', min(data))\n",
    "print('Variansi:', variansi)"
   ]
  },
  {
   "cell_type": "markdown",
   "id": "37569da4-2526-43bf-b891-244fa115c72b",
   "metadata": {},
   "source": [
    "## Minggu ke 6 Kuis"
   ]
  },
  {
   "cell_type": "code",
   "execution_count": 35,
   "id": "a94b5f2f-bb55-4ffd-a830-a7905296162f",
   "metadata": {},
   "outputs": [
    {
     "name": "stdout",
     "output_type": "stream",
     "text": [
      "Rata-rata jumlah pengunjung per hari: 30.714285714285715\n",
      "Hari dengan pengunjung terbanyak: Sabtu dengan 50 pengunjung\n"
     ]
    }
   ],
   "source": [
    "# Data jumlah pengunjung setiap hari dalam seminggu\n",
    "pengunjung = {\n",
    "    'senin':20,\n",
    "    'selasa':25,\n",
    "    'rabu':30,\n",
    "    'kamis':15,\n",
    "    'jumat':40,\n",
    "    'Sabtu':50,\n",
    "    'minggu':35\n",
    "}\n",
    "\n",
    "# 1. Menghitung rata-rata jumlah pengunjung per hari menggunakan for\n",
    "total_pengunjung = 0\n",
    "jumlah_hari = len(pengunjung)\n",
    "\n",
    "for hari in pengunjung.values():\n",
    "    total_pengunjung += hari\n",
    "    \n",
    "rata_rata_pengunjung = total_pengunjung / jumlah_hari\n",
    "print(f\"Rata-rata jumlah pengunjung per hari: {rata_rata_pengunjung}\")\n",
    "\n",
    "# 2. Menentukan hari dengan pengunjung terbanyak\n",
    "hari_terbanyak = max(pengunjung, key=pengunjung.get)\n",
    "jumlah_terbanyak = pengunjung[hari_terbanyak]\n",
    "print(f\"Hari dengan pengunjung terbanyak: {hari_terbanyak} dengan {jumlah_terbanyak} pengunjung\")\n"
   ]
  },
  {
   "cell_type": "markdown",
   "id": "f5414b46-3409-4713-aa06-a12100363210",
   "metadata": {},
   "source": [
    "## Minggu ke 7 Percabangan"
   ]
  },
  {
   "cell_type": "code",
   "execution_count": 41,
   "id": "0eb4241b-f641-41ca-b2cc-65cdd8762d22",
   "metadata": {},
   "outputs": [
    {
     "name": "stdout",
     "output_type": "stream",
     "text": [
      "Lulus - Memuaskan\n"
     ]
    }
   ],
   "source": [
    "nilai = 76\n",
    "if nilai >= 70 and nilai <85: print(\"Lulus - Memuaskan\")\n",
    "#Perhatikan hintnya\n"
   ]
  },
  {
   "cell_type": "code",
   "execution_count": 43,
   "id": "83056f22-3fc9-419c-a389-8859a5059cb4",
   "metadata": {},
   "outputs": [
    {
     "name": "stdin",
     "output_type": "stream",
     "text": [
      "Masukkan sebuah angka:  25\n"
     ]
    },
    {
     "name": "stdout",
     "output_type": "stream",
     "text": [
      "Angka tersebut adalah angka positif.\n"
     ]
    }
   ],
   "source": [
    "# Program untuk mengecek angka positif, negatif, atau nol\n",
    "angka = int(input(\"Masukkan sebuah angka: \"))\n",
    "\n",
    "if angka > 0:\n",
    "    print(\"Angka tersebut adalah angka positif.\")\n",
    "elif angka < 0:\n",
    "    print(\"Angka tersebut adalah angka negatif.\")\n",
    "else:\n",
    "    print(\"Angka tersebut adalah nol.\")\n"
   ]
  },
  {
   "cell_type": "code",
   "execution_count": 45,
   "id": "44bc0ae1-1157-42e5-bddc-a1dba79cea06",
   "metadata": {},
   "outputs": [
    {
     "name": "stdin",
     "output_type": "stream",
     "text": [
      "Masukkan usia Anda:  18\n"
     ]
    },
    {
     "name": "stdout",
     "output_type": "stream",
     "text": [
      "Anda termasuk dalam kategori pemuda.\n"
     ]
    }
   ],
   "source": [
    "# Program untuk mengecek kelayakan masuk kategori usia tertentu\n",
    "usia = int(input(\"Masukkan usia Anda: \"))\n",
    "\n",
    "if usia >= 18 and usia <= 35:\n",
    "    print(\"Anda termasuk dalam kategori pemuda.\")\n",
    "elif usia > 35 and usia <= 60:\n",
    "    print(\"Anda termasuk dalam kategori dewasa.\")\n",
    "elif usia > 60:\n",
    "    print(\"Anda termasuk dalam kategori lansia.\")\n",
    "else:\n",
    "    print(\"Anda masih anak-anak.\")\n",
    "\n"
   ]
  },
  {
   "cell_type": "code",
   "execution_count": 47,
   "id": "c6b07b21-54c4-4e06-b11e-dabf47cf98e7",
   "metadata": {},
   "outputs": [
    {
     "name": "stdin",
     "output_type": "stream",
     "text": [
      "Masukkan sebuah angka:  20\n"
     ]
    },
    {
     "name": "stdout",
     "output_type": "stream",
     "text": [
      "Angka 20 adalah genap.\n"
     ]
    }
   ],
   "source": [
    "# Mengecek apakah angka genap atau ganjil dengan operator ternary\n",
    "angka = int(input(\"Masukkan sebuah angka: \"))\n",
    "\n",
    "hasil = \"genap\" if angka % 2 == 0 else \"ganjil\"\n",
    "print(f\"Angka {angka} adalah {hasil}.\")"
   ]
  },
  {
   "cell_type": "markdown",
   "id": "e24dc067-296c-4770-89f4-0ed415158f6c",
   "metadata": {},
   "source": [
    "## Minggu ke 8 "
   ]
  },
  {
   "cell_type": "code",
   "execution_count": 50,
   "id": "910c4123-c634-4f59-8606-c2706a58fa65",
   "metadata": {},
   "outputs": [
    {
     "name": "stdout",
     "output_type": "stream",
     "text": [
      "Total uang saku yang diberikan kepada semua anak Keluarga Wijaya dalam satu minggu adalah: $115\n"
     ]
    }
   ],
   "source": [
    "usia_anak = [8,12,9,16,14,16,4,10]\n",
    "total_uang_saku = 0\n",
    "for i in usia_anak :\n",
    "    if i <10 :\n",
    "        uang_saku = 10\n",
    "    elif 10<= i <=15:\n",
    "        uang_saku = 15\n",
    "    else:\n",
    "        uang_saku = 20\n",
    "    total_uang_saku += uang_saku\n",
    "    \n",
    "print(f\"Total uang saku yang diberikan kepada semua anak Keluarga Wijaya dalam satu minggu adalah: ${total_uang_saku}\")"
   ]
  },
  {
   "cell_type": "code",
   "execution_count": 52,
   "id": "5c3b7b84-d1df-47bd-9770-ddc127610773",
   "metadata": {},
   "outputs": [
    {
     "name": "stdout",
     "output_type": "stream",
     "text": [
      "Siswa 1: Predikat \"Sangat Baik\"\n",
      "Siswa 2: Predikat \"Baik\"\n",
      "Siswa 3: Predikat \"Kurang\"\n",
      "Siswa 4: Predikat \"Cukup\"\n",
      "Siswa 5: Predikat \"Sangat Baik\"\n",
      "Siswa 6: Predikat \"Baik\"\n",
      "Siswa 7: Predikat \"Kurang\"\n",
      "Siswa 8: Predikat \"Cukup\"\n",
      "Siswa 9: Predikat \"Sangat Baik\"\n",
      "Siswa 10: Predikat \"Sangat Baik\"\n"
     ]
    }
   ],
   "source": [
    "nilai_siswa = [85,76,54,62,90,73,45,69,88,80]\n",
    "siswa_ke = 0\n",
    "\n",
    "for n in nilai_siswa:\n",
    "    siswa_ke += 1\n",
    "    if n >= 80:\n",
    "        print(f'Siswa {siswa_ke}: Predikat \"Sangat Baik\"')\n",
    "    elif n >= 70 and n <80:\n",
    "        print(f'Siswa {siswa_ke}: Predikat \"Baik\"')\n",
    "    elif n >= 60 and n <70:\n",
    "        print(f'Siswa {siswa_ke}: Predikat \"Cukup\"')\n",
    "    else:\n",
    "        print(f'Siswa {siswa_ke}: Predikat \"Kurang\"')"
   ]
  },
  {
   "cell_type": "markdown",
   "id": "76cc71f6-a58b-42c4-914c-70235ce85b30",
   "metadata": {},
   "source": [
    "## Minggu ke 9"
   ]
  },
  {
   "cell_type": "code",
   "execution_count": 58,
   "id": "4afefef6-ce02-4950-80ff-251266aac900",
   "metadata": {},
   "outputs": [
    {
     "name": "stdout",
     "output_type": "stream",
     "text": [
      "total uang saku yang di berikan dalam satu minggu adalah: $115\n"
     ]
    }
   ],
   "source": [
    "usia_anak = [8, 12, 9, 16, 14,16, 4, 10]\n",
    "total_uang = 0\n",
    "\n",
    "for usia in usia_anak :\n",
    "    if usia < 10:\n",
    "        uang = 10\n",
    "    elif usia <= 15:\n",
    "        uang = 15\n",
    "    else:\n",
    "        uang = 20\n",
    "\n",
    "    total_uang += uang\n",
    "print(f\"total uang saku yang di berikan dalam satu minggu adalah: ${total_uang}\")"
   ]
  },
  {
   "cell_type": "code",
   "execution_count": 61,
   "id": "362eb838-d71a-4bb2-9bb1-54181b74b69a",
   "metadata": {},
   "outputs": [
    {
     "name": "stdout",
     "output_type": "stream",
     "text": [
      "1 2 Fizz 4 5 Fizz 7 8 Fizz "
     ]
    }
   ],
   "source": [
    "for i in range(1, 10):\n",
    "    if  i%3 == 0:\n",
    "        print(\"Fizz\", end=\" \")\n",
    "    else:\n",
    "        print(i,end=\" \")"
   ]
  },
  {
   "cell_type": "code",
   "execution_count": 64,
   "id": "4d6c87e8-2036-45f6-b42c-8aab7100e929",
   "metadata": {},
   "outputs": [
    {
     "name": "stdout",
     "output_type": "stream",
     "text": [
      "1 2 6 24 120 "
     ]
    }
   ],
   "source": [
    "x=1\n",
    "for i in range(5):\n",
    "    x=x*(i+1)\n",
    "    print(x,end=\" \")"
   ]
  },
  {
   "cell_type": "markdown",
   "id": "0ed0fa76-cdbf-452f-9d43-9911453aa38e",
   "metadata": {},
   "source": [
    "## Minggu ke 10 Membuat Soal Mandiri"
   ]
  },
  {
   "cell_type": "code",
   "execution_count": 69,
   "id": "6d7eb0eb-bb51-4546-9e15-56699ff4e110",
   "metadata": {},
   "outputs": [
    {
     "name": "stdout",
     "output_type": "stream",
     "text": [
      "Program Kasir Toko\n",
      "\n"
     ]
    },
    {
     "name": "stdin",
     "output_type": "stream",
     "text": [
      "Masukkan jumlah barang:  3\n",
      "Masukkan harga barang ke-1:  1000000\n",
      "Masukkan jumlah barang ke-1:  3\n",
      "Masukkan harga barang ke-2:  250000\n",
      "Masukkan jumlah barang ke-2:  1\n",
      "Masukkan harga barang ke-3:  500000\n",
      "Masukkan jumlah barang ke-3:  4\n"
     ]
    },
    {
     "name": "stdout",
     "output_type": "stream",
     "text": [
      "\n",
      "========== STRUK BELANJA ==========\n",
      "Total belanja awal: Rp5,250,000\n",
      "Diskon: 20%\n",
      "Total belanja akhir: Rp4,200,000.0\n"
     ]
    }
   ],
   "source": [
    "# Program Kasir Toko\n",
    "print(\"Program Kasir Toko\\n\")\n",
    "\n",
    "# Meminta jumlah barang yang dibeli\n",
    "jumlah_barang = int(input(\"Masukkan jumlah barang: \"))\n",
    "\n",
    "total_belanja = 0\n",
    "\n",
    "# Menghitung total belanja\n",
    "for i in range(1, jumlah_barang + 1):\n",
    "    harga = int(input(f\"Masukkan harga barang ke-{i}: \"))\n",
    "    jumlah = int(input(f\"Masukkan jumlah barang ke-{i}: \"))\n",
    "    total_belanja += harga * jumlah\n",
    "\n",
    "# Menentukan diskon\n",
    "if total_belanja > 500000:\n",
    "    diskon = 0.20\n",
    "elif 250000 <= total_belanja <= 500000:\n",
    "    diskon = 0.10\n",
    "else:\n",
    "    diskon = 0.0\n",
    "\n",
    "# Menghitung total setelah diskon\n",
    "total_diskon = total_belanja * diskon\n",
    "total_akhir = total_belanja - total_diskon\n",
    "\n",
    "# Menampilkan hasil\n",
    "print(\"\\n========== STRUK BELANJA ==========\")\n",
    "print(f\"Total belanja awal: Rp{total_belanja:,}\")\n",
    "print(f\"Diskon: {int(diskon * 100)}%\")\n",
    "print(f\"Total belanja akhir: Rp{total_akhir:,}\")\n"
   ]
  },
  {
   "cell_type": "code",
   "execution_count": null,
   "id": "d7e5cbfb-6b6e-4947-bc13-0686c1436a32",
   "metadata": {},
   "outputs": [
    {
     "name": "stdout",
     "output_type": "stream",
     "text": [
      "Program Menghitung Ganjil dan Genap\n",
      "\n"
     ]
    },
    {
     "name": "stdin",
     "output_type": "stream",
     "text": [
      "Masukkan jumlah bilangan:  8\n",
      "Masukkan bilangan ke-1:  4\n",
      "Masukkan bilangan ke-2:  5\n",
      "Masukkan bilangan ke-3:  7\n",
      "Masukkan bilangan ke-4:  9\n",
      "Masukkan bilangan ke-5:  2\n",
      "Masukkan bilangan ke-6:  5\n"
     ]
    }
   ],
   "source": [
    "# Program Menghitung Ganjil dan Genap\n",
    "print(\"Program Menghitung Ganjil dan Genap\\n\")\n",
    "\n",
    "# Meminta jumlah bilangan\n",
    "jumlah_bilangan = int(input(\"Masukkan jumlah bilangan: \"))\n",
    "\n",
    "genap_count = 0\n",
    "ganjil_count = 0\n",
    "\n",
    "# Memeriksa setiap bilangan\n",
    "for i in range(1, jumlah_bilangan + 1):\n",
    "    bilangan = int(input(f\"Masukkan bilangan ke-{i}: \"))\n",
    "    if bilangan % 2 == 0:\n",
    "        genap_count += 1\n",
    "    else:\n",
    "        ganjil_count += 1\n",
    "\n",
    "# Menentukan hasil dominasi\n",
    "if genap_count > ganjil_count:\n",
    "    hasil = \"Genap Mendominasi\"\n",
    "elif ganjil_count > genap_count:\n",
    "    hasil = \"Ganjil Mendominasi\"\n",
    "else:\n",
    "    hasil = \"Seimbang\"\n",
    "\n",
    "# Menampilkan hasil\n",
    "print(\"\\n========== HASIL PERHITUNGAN ==========\")\n",
    "print(f\"Jumlah bilangan genap: {genap_count}\")\n",
    "print(f\"Jumlah bilangan ganjil: {ganjil_count}\")\n",
    "print(f\"Hasil: {hasil}\")"
   ]
  },
  {
   "cell_type": "code",
   "execution_count": null,
   "id": "5cd0c655-eba3-4fe0-89b9-cd67b6fd8c29",
   "metadata": {},
   "outputs": [],
   "source": []
  }
 ],
 "metadata": {
  "kernelspec": {
   "display_name": "Python 3 (ipykernel)",
   "language": "python",
   "name": "python3"
  },
  "language_info": {
   "codemirror_mode": {
    "name": "ipython",
    "version": 3
   },
   "file_extension": ".py",
   "mimetype": "text/x-python",
   "name": "python",
   "nbconvert_exporter": "python",
   "pygments_lexer": "ipython3",
   "version": "3.12.4"
  }
 },
 "nbformat": 4,
 "nbformat_minor": 5
}
